{
 "cells": [
  {
   "cell_type": "markdown",
   "metadata": {},
   "source": [
    "# Yelp: Reviews Data Processing\n",
    "\n",
    "*By Daniel Deutsch, José Lucas Barretto, Lucas Miguel Agrizzi, Kevin Kuhl.*"
   ]
  },
  {
   "cell_type": "code",
   "execution_count": 1,
   "metadata": {},
   "outputs": [],
   "source": [
    "import os\n",
    "import ast\n",
    "import pandas as pd\n",
    "\n",
    "from pandas.io.json import json_normalize"
   ]
  },
  {
   "cell_type": "code",
   "execution_count": 2,
   "metadata": {},
   "outputs": [],
   "source": [
    "# Constants\n",
    "URL_DEFAULT_IMG = \"https://s3-media0.fl.yelpcdn.com/assets/srv0/yelp_styleguide/514f6997a318/assets/img/default_avatars/user_60_square.png\""
   ]
  },
  {
   "cell_type": "code",
   "execution_count": 3,
   "metadata": {},
   "outputs": [],
   "source": [
    "df = pd.DataFrame()\n",
    "for filename in [filename for filename in os.listdir(\"./../datasets/raw_reviews\") if filename.endswith(\".csv.zip\")]:\n",
    "    df = pd.concat([df, pd.read_csv(f\"./../datasets/raw_reviews/{filename}\", index_col=0)], ignore_index=True)"
   ]
  },
  {
   "cell_type": "markdown",
   "metadata": {},
   "source": [
    "### Flatten Important Attributes\n",
    "\n",
    "Some of the columns are a json string with important values, it is convenient to create a column for each one of these attributes"
   ]
  },
  {
   "cell_type": "code",
   "execution_count": 4,
   "metadata": {},
   "outputs": [
    {
     "name": "stderr",
     "output_type": "stream",
     "text": [
      "<ipython-input-4-186fccae3731>:1: FutureWarning: pandas.io.json.json_normalize is deprecated, use pandas.json_normalize instead\n",
      "  df = df.join(json_normalize(df[\"business\"].map(ast.literal_eval).tolist()).add_prefix(\"business.\"))\n",
      "<ipython-input-4-186fccae3731>:2: FutureWarning: pandas.io.json.json_normalize is deprecated, use pandas.json_normalize instead\n",
      "  df = df.join(json_normalize(df[\"comment\"].map(ast.literal_eval).tolist()).add_prefix(\"comment.\"))\n",
      "<ipython-input-4-186fccae3731>:3: FutureWarning: pandas.io.json.json_normalize is deprecated, use pandas.json_normalize instead\n",
      "  df = df.join(json_normalize(df[\"user\"].map(ast.literal_eval).tolist()).add_prefix(\"user.\"))\n"
     ]
    }
   ],
   "source": [
    "df = df.join(json_normalize(df[\"business\"].map(ast.literal_eval).tolist()).add_prefix(\"business.\"))\n",
    "df = df.join(json_normalize(df[\"comment\"].map(ast.literal_eval).tolist()).add_prefix(\"comment.\"))\n",
    "df = df.join(json_normalize(df[\"user\"].map(ast.literal_eval).tolist()).add_prefix(\"user.\"))"
   ]
  },
  {
   "cell_type": "markdown",
   "metadata": {},
   "source": [
    "### Creating has_img from user.src"
   ]
  },
  {
   "cell_type": "code",
   "execution_count": 5,
   "metadata": {},
   "outputs": [],
   "source": [
    "df[\"has_img\"] = df[\"user.src\"].apply(lambda attr: attr != URL_DEFAULT_IMG)"
   ]
  },
  {
   "cell_type": "markdown",
   "metadata": {},
   "source": [
    "### Drop Unnecessary Columns\n",
    "\n",
    "Some of the columns in the dataframe aren't meaningful for our analysis, so we don't have to keep them."
   ]
  },
  {
   "cell_type": "code",
   "execution_count": 6,
   "metadata": {},
   "outputs": [],
   "source": [
    "df.drop([\"business\", \"business.id\", \"business.name\", \"business.photoSrc\", \"comment\", \"user\", \"feedback\",\n",
    "         \"user.altText\", \"user.eliteYear\", \"user.link\", \"user.markupDisplayName\", \"user.partnerAlias\",\n",
    "         \"user.photoCount\", \"user.src\", \"user.srcSet\", \"user.userUrl\", \"photosUrl\", \"localizedDateVisited\",\n",
    "         \"businessOwnerReplies\", \"userId\", \"previousReviews\", \"lightboxMediaItems\", \"photos\", \"tags\", \n",
    "         \"isUpdated\", \"appreciatedBy\", \"id\"],\n",
    "        axis=1, inplace=True)\n",
    "\n",
    "df = df.rename(columns={'localizedDate': 'date'})"
   ]
  },
  {
   "cell_type": "markdown",
   "metadata": {},
   "source": [
    "### Save the Dataframe\n",
    "\n",
    "Saves the obtained dataframe"
   ]
  },
  {
   "cell_type": "code",
   "execution_count": 7,
   "metadata": {},
   "outputs": [],
   "source": [
    "df.to_csv(\"./../datasets/proc_reviews/proc_reviews.csv.zip\")"
   ]
  }
 ],
 "metadata": {
  "kernelspec": {
   "display_name": "mod203",
   "language": "python",
   "name": "mod203"
  },
  "language_info": {
   "codemirror_mode": {
    "name": "ipython",
    "version": 3
   },
   "file_extension": ".py",
   "mimetype": "text/x-python",
   "name": "python",
   "nbconvert_exporter": "python",
   "pygments_lexer": "ipython3",
   "version": "3.8.5"
  }
 },
 "nbformat": 4,
 "nbformat_minor": 2
}
