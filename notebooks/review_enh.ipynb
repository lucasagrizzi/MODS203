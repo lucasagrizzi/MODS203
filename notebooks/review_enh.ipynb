{
 "cells": [
  {
   "cell_type": "markdown",
   "metadata": {},
   "source": [
    "# Yelp: Reviews Data Enhencement\n",
    "\n",
    "*By Daniel Deutsch, José Lucas Barretto, Lucas Miguel Agrizzi, Kevin Kuhl.*"
   ]
  },
  {
   "cell_type": "code",
   "execution_count": null,
   "metadata": {},
   "outputs": [],
   "source": [
    "import numpy as np\n",
    "import pandas as pd\n",
    "import pycountry\n",
    "from geopy.geocoders import Nominatim\n",
    "import re"
   ]
  },
  {
   "cell_type": "code",
   "execution_count": null,
   "metadata": {},
   "outputs": [],
   "source": [
    "df = pd.read_csv(\"./../datasets/proc_reviews/proc_reviews.csv.zip\", index_col=0)"
   ]
  },
  {
   "cell_type": "markdown",
   "metadata": {},
   "source": [
    "### Extract Country Information\n",
    "\n",
    "The column *user.displayLocation* of the dataframe is useless the way it is now. What we are going to do is extract the country name and the country ISO aplha_3 code for each row."
   ]
  },
  {
   "cell_type": "code",
   "execution_count": null,
   "metadata": {
    "tags": []
   },
   "outputs": [],
   "source": [
    "def extract_country(row):\n",
    "    nm = Nominatim(user_agent=\"myUserAgent\")\n",
    "    country = nm.geocode(row[\"user.displayLocation\"])\n",
    "    try:\n",
    "        name = country.address.split(\", \")[-1]\n",
    "        code = pycountry.countries.get(name=name).alpha_3\n",
    "    except:\n",
    "        name, code = pd.NA, pd.NA\n",
    "    print(f\"\\r Progress: {row.name}, name: {name}, code: {code}\", end=\"\")\n",
    "    return name, code\n",
    "\n",
    "df[[\"user.country.name\", \"user.country.code\"]] = df.apply(extract_country, axis=1, result_type=\"expand\")"
   ]
  },
  {
   "cell_type": "markdown",
   "metadata": {},
   "source": [
    "### Drop Unnecessary Columns\n",
    "\n",
    "Now that we have the information about the country of the user, we can drop the column *user.displayLocation*"
   ]
  },
  {
   "cell_type": "code",
   "execution_count": null,
   "metadata": {},
   "outputs": [],
   "source": [
    "df.drop([\"user.displayLocation\"], axis=1, inplace=True)"
   ]
  },
  {
   "cell_type": "markdown",
   "metadata": {},
   "source": [
    "### Remove HTML tags from text"
   ]
  },
  {
   "cell_type": "code",
   "execution_count": null,
   "metadata": {},
   "outputs": [],
   "source": [
    "regex_pat = re.compile('<.*?>')\n",
    "df[\"comment.text\"] = df[\"comment.text\"].str.replace({regex_pat: \"\", \"&#39;\": \"\"}, regex=True)"
   ]
  },
  {
   "cell_type": "markdown",
   "metadata": {},
   "source": [
    "### Save the Dataframe\n",
    "\n",
    "Saves the obtained dataframe"
   ]
  },
  {
   "cell_type": "code",
   "execution_count": null,
   "metadata": {},
   "outputs": [],
   "source": [
    "df.to_csv(\"./../datasets/enh_reviews/enh_reviews.csv.zip\")"
   ]
  }
 ],
 "metadata": {
  "kernelspec": {
   "display_name": "Python 3",
   "language": "python",
   "name": "python3"
  },
  "language_info": {
   "codemirror_mode": {
    "name": "ipython",
    "version": 3
   },
   "file_extension": ".py",
   "mimetype": "text/x-python",
   "name": "python",
   "nbconvert_exporter": "python",
   "pygments_lexer": "ipython3",
   "version": "3.8.5"
  }
 },
 "nbformat": 4,
 "nbformat_minor": 4
}
