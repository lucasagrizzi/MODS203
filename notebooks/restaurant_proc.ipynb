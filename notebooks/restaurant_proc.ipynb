{
 "cells": [
  {
   "cell_type": "markdown",
   "metadata": {},
   "source": [
    "# Yelp: Restaurants Data Processing\n",
    "\n",
    "*By Daniel Deutsch, José Lucas Barretto, Lucas Miguel Agrizzi, Kevin Kuhl.*"
   ]
  },
  {
   "cell_type": "code",
   "execution_count": 93,
   "metadata": {},
   "outputs": [],
   "source": [
    "import os\n",
    "import ast\n",
    "import pandas as pd\n",
    "\n",
    "from pandas.io.json import json_normalize"
   ]
  },
  {
   "cell_type": "code",
   "execution_count": 94,
   "metadata": {},
   "outputs": [],
   "source": [
    "df = pd.read_csv(\"./../datasets/raw_restaurants/raw_restaurants.csv.zip\", index_col=0)"
   ]
  },
  {
   "cell_type": "markdown",
   "metadata": {},
   "source": [
    "### Flatten Important Attributes\n",
    "\n",
    "The coordinates column is a dict with keys \"latitude\" and \"longitude\". It's harder to work with columns that are dicts in pandas. To avoid that, we create new columns based on these attributes."
   ]
  },
  {
   "cell_type": "code",
   "execution_count": 95,
   "metadata": {},
   "outputs": [
    {
     "name": "stderr",
     "output_type": "stream",
     "text": [
      "/home/josebarretto/anaconda3/envs/study/lib/python3.7/site-packages/ipykernel_launcher.py:1: FutureWarning: pandas.io.json.json_normalize is deprecated, use pandas.json_normalize instead\n",
      "  \"\"\"Entry point for launching an IPython kernel.\n"
     ]
    }
   ],
   "source": [
    "df = df.join(json_normalize(df[\"coordinates\"].map(ast.literal_eval).tolist()).add_prefix(\"coordinates.\"))"
   ]
  },
  {
   "cell_type": "markdown",
   "metadata": {},
   "source": [
    "### Numericalizing Strings\n",
    "\n",
    "The price is proportional to the amount of $\\$$ returned by the API. It is harder to work with strings in this context, so we set the price column as the number of $\\$$ returned by the API instead of a string with $\\$$."
   ]
  },
  {
   "cell_type": "code",
   "execution_count": 96,
   "metadata": {},
   "outputs": [],
   "source": [
    "def numericalize(row):\n",
    "    return len(str(row[\"price\"]))\n",
    "\n",
    "df[\"price\"] = df.apply(lambda row: numericalize(row), axis=1)"
   ]
  },
  {
   "cell_type": "markdown",
   "metadata": {},
   "source": [
    "### Drop Unnecessary Categories Attributes\n",
    "\n",
    "The categories column is an array of dictionaries. These dictionaries have \"alias\" and \"title\" as their keys. We will only use the \"alias\", so we can make the column be an array of alias instead an array of dictionaries."
   ]
  },
  {
   "cell_type": "code",
   "execution_count": 97,
   "metadata": {},
   "outputs": [
    {
     "name": "stderr",
     "output_type": "stream",
     "text": [
      "/home/josebarretto/anaconda3/envs/study/lib/python3.7/site-packages/ipykernel_launcher.py:2: FutureWarning: pandas.io.json.json_normalize is deprecated, use pandas.json_normalize instead\n",
      "  \n"
     ]
    }
   ],
   "source": [
    "df[\"categories\"] = df[\"categories\"].map(lambda row: [category[\"alias\"] for category in ast.literal_eval(row)])\n",
    "df = df.join(json_normalize(df[\"location\"].map(ast.literal_eval).tolist()).add_prefix(\"location.\"))"
   ]
  },
  {
   "cell_type": "markdown",
   "metadata": {},
   "source": [
    "### Generate Arrondissement from Zip Code"
   ]
  },
  {
   "cell_type": "code",
   "execution_count": 98,
   "metadata": {},
   "outputs": [],
   "source": [
    "def get_ar(zip_code_str):\n",
    "    \n",
    "    if zip_code_str == '':\n",
    "        return pd.NA\n",
    "    \n",
    "    zip_code_int = int(zip_code_str)\n",
    "    \n",
    "    if zip_code_int in range(75001, 75021):\n",
    "        return str(int(zip_code_int - 75000))\n",
    "    else:\n",
    "        return pd.NA\n",
    "        \n",
    "df['arrondissement'] = df['location.zip_code'].apply(get_ar)"
   ]
  },
  {
   "cell_type": "markdown",
   "metadata": {},
   "source": [
    "### Drop Unnecessary Columns\n",
    "\n",
    "Some of the business details returned by Yelp's API are not interesting for our goal. Therefore, there is no problem in dropping these columns"
   ]
  },
  {
   "cell_type": "code",
   "execution_count": 99,
   "metadata": {},
   "outputs": [],
   "source": [
    "df.drop([\"phone\", \"display_phone\", \"distance\", \"image_url\", \"transactions\", \"location\", \"coordinates\", \"url\", \"location.address1\", \"location.address2\", \"location.address3\", \"location.city\", \"location.country\", \"location.state\", \"location.display_address\", \"location.zip_code\"], axis=1, inplace=True)"
   ]
  },
  {
   "cell_type": "markdown",
   "metadata": {},
   "source": [
    "### Save the Dataframe\n",
    "\n",
    "Saves the obtained dataframe"
   ]
  },
  {
   "cell_type": "code",
   "execution_count": 100,
   "metadata": {},
   "outputs": [],
   "source": [
    "df.to_csv(\"./../datasets/proc_restaurants/proc_restaurants.csv.zip\")"
   ]
  }
 ],
 "metadata": {
  "kernelspec": {
   "display_name": "Python [conda env:study] *",
   "language": "python",
   "name": "conda-env-study-py"
  },
  "language_info": {
   "codemirror_mode": {
    "name": "ipython",
    "version": 3
   },
   "file_extension": ".py",
   "mimetype": "text/x-python",
   "name": "python",
   "nbconvert_exporter": "python",
   "pygments_lexer": "ipython3",
   "version": "3.7.9"
  }
 },
 "nbformat": 4,
 "nbformat_minor": 2
}
