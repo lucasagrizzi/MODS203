{
 "cells": [
  {
   "cell_type": "code",
   "execution_count": 66,
   "metadata": {},
   "outputs": [],
   "source": [
    "import numpy as np\n",
    "import pandas as pd\n",
    "from matplotlib import pyplot as plt\n",
    "from textblob import TextBlob\n",
    "import seaborn as sns"
   ]
  },
  {
   "cell_type": "code",
   "execution_count": 3,
   "metadata": {},
   "outputs": [
    {
     "data": {
      "text/html": [
       "<div>\n",
       "<style scoped>\n",
       "    .dataframe tbody tr th:only-of-type {\n",
       "        vertical-align: middle;\n",
       "    }\n",
       "\n",
       "    .dataframe tbody tr th {\n",
       "        vertical-align: top;\n",
       "    }\n",
       "\n",
       "    .dataframe thead th {\n",
       "        text-align: right;\n",
       "    }\n",
       "</style>\n",
       "<table border=\"1\" class=\"dataframe\">\n",
       "  <thead>\n",
       "    <tr style=\"text-align: right;\">\n",
       "      <th></th>\n",
       "      <th>rating</th>\n",
       "      <th>totalPhotos</th>\n",
       "      <th>is_fake</th>\n",
       "      <th>business.alias</th>\n",
       "      <th>comment.text</th>\n",
       "      <th>comment.language</th>\n",
       "      <th>user.reviewCount</th>\n",
       "      <th>user.friendCount</th>\n",
       "      <th>user.country.code</th>\n",
       "      <th>has_img</th>\n",
       "    </tr>\n",
       "  </thead>\n",
       "  <tbody>\n",
       "    <tr>\n",
       "      <th>0</th>\n",
       "      <td>4</td>\n",
       "      <td>0</td>\n",
       "      <td>False</td>\n",
       "      <td>the-lizard-lounge-paris</td>\n",
       "      <td>It was a 2 man show. The bartender and  cook b...</td>\n",
       "      <td>en</td>\n",
       "      <td>101</td>\n",
       "      <td>48</td>\n",
       "      <td>USA</td>\n",
       "      <td>True</td>\n",
       "    </tr>\n",
       "    <tr>\n",
       "      <th>1</th>\n",
       "      <td>4</td>\n",
       "      <td>0</td>\n",
       "      <td>False</td>\n",
       "      <td>the-lizard-lounge-paris</td>\n",
       "      <td>during the afternoon, around happy hour, this ...</td>\n",
       "      <td>en</td>\n",
       "      <td>391</td>\n",
       "      <td>81</td>\n",
       "      <td>GBR</td>\n",
       "      <td>True</td>\n",
       "    </tr>\n",
       "    <tr>\n",
       "      <th>2</th>\n",
       "      <td>4</td>\n",
       "      <td>0</td>\n",
       "      <td>False</td>\n",
       "      <td>the-lizard-lounge-paris</td>\n",
       "      <td>Very cool bar, chilled in the afternoon and pa...</td>\n",
       "      <td>en</td>\n",
       "      <td>34</td>\n",
       "      <td>1</td>\n",
       "      <td>FRA</td>\n",
       "      <td>True</td>\n",
       "    </tr>\n",
       "    <tr>\n",
       "      <th>3</th>\n",
       "      <td>5</td>\n",
       "      <td>0</td>\n",
       "      <td>False</td>\n",
       "      <td>the-lizard-lounge-paris</td>\n",
       "      <td>Nice place to chill if you needed a little bre...</td>\n",
       "      <td>en</td>\n",
       "      <td>184</td>\n",
       "      <td>112</td>\n",
       "      <td>USA</td>\n",
       "      <td>True</td>\n",
       "    </tr>\n",
       "    <tr>\n",
       "      <th>4</th>\n",
       "      <td>4</td>\n",
       "      <td>0</td>\n",
       "      <td>False</td>\n",
       "      <td>the-lizard-lounge-paris</td>\n",
       "      <td>Just like other yelpers say, if u need to find...</td>\n",
       "      <td>en</td>\n",
       "      <td>73</td>\n",
       "      <td>16</td>\n",
       "      <td>USA</td>\n",
       "      <td>True</td>\n",
       "    </tr>\n",
       "    <tr>\n",
       "      <th>...</th>\n",
       "      <td>...</td>\n",
       "      <td>...</td>\n",
       "      <td>...</td>\n",
       "      <td>...</td>\n",
       "      <td>...</td>\n",
       "      <td>...</td>\n",
       "      <td>...</td>\n",
       "      <td>...</td>\n",
       "      <td>...</td>\n",
       "      <td>...</td>\n",
       "    </tr>\n",
       "    <tr>\n",
       "      <th>226138</th>\n",
       "      <td>5</td>\n",
       "      <td>1</td>\n",
       "      <td>False</td>\n",
       "      <td>banoi-paris</td>\n",
       "      <td>Très bon, je me suis régalée ! Les rouleaux de...</td>\n",
       "      <td>fr</td>\n",
       "      <td>9</td>\n",
       "      <td>0</td>\n",
       "      <td>USA</td>\n",
       "      <td>True</td>\n",
       "    </tr>\n",
       "    <tr>\n",
       "      <th>226139</th>\n",
       "      <td>5</td>\n",
       "      <td>2</td>\n",
       "      <td>False</td>\n",
       "      <td>banoi-paris</td>\n",
       "      <td>Petite adresse viet testée juste avant un conc...</td>\n",
       "      <td>fr</td>\n",
       "      <td>192</td>\n",
       "      <td>48</td>\n",
       "      <td>FRA</td>\n",
       "      <td>True</td>\n",
       "    </tr>\n",
       "    <tr>\n",
       "      <th>226140</th>\n",
       "      <td>5</td>\n",
       "      <td>3</td>\n",
       "      <td>False</td>\n",
       "      <td>banoi-paris</td>\n",
       "      <td>Découvert il y a quelques semaines via lémissi...</td>\n",
       "      <td>fr</td>\n",
       "      <td>79</td>\n",
       "      <td>3</td>\n",
       "      <td>FRA</td>\n",
       "      <td>True</td>\n",
       "    </tr>\n",
       "    <tr>\n",
       "      <th>226141</th>\n",
       "      <td>5</td>\n",
       "      <td>0</td>\n",
       "      <td>False</td>\n",
       "      <td>banoi-paris</td>\n",
       "      <td>This is a little hole in the wall restaurant o...</td>\n",
       "      <td>en</td>\n",
       "      <td>11</td>\n",
       "      <td>0</td>\n",
       "      <td>USA</td>\n",
       "      <td>False</td>\n",
       "    </tr>\n",
       "    <tr>\n",
       "      <th>226142</th>\n",
       "      <td>4</td>\n",
       "      <td>1</td>\n",
       "      <td>False</td>\n",
       "      <td>le-délice-paris-4</td>\n",
       "      <td>Le premier intérêt de ce traiteur et restauran...</td>\n",
       "      <td>fr</td>\n",
       "      <td>422</td>\n",
       "      <td>31</td>\n",
       "      <td>FRA</td>\n",
       "      <td>True</td>\n",
       "    </tr>\n",
       "  </tbody>\n",
       "</table>\n",
       "<p>226143 rows × 10 columns</p>\n",
       "</div>"
      ],
      "text/plain": [
       "        rating  totalPhotos  is_fake           business.alias  \\\n",
       "0            4            0    False  the-lizard-lounge-paris   \n",
       "1            4            0    False  the-lizard-lounge-paris   \n",
       "2            4            0    False  the-lizard-lounge-paris   \n",
       "3            5            0    False  the-lizard-lounge-paris   \n",
       "4            4            0    False  the-lizard-lounge-paris   \n",
       "...        ...          ...      ...                      ...   \n",
       "226138       5            1    False              banoi-paris   \n",
       "226139       5            2    False              banoi-paris   \n",
       "226140       5            3    False              banoi-paris   \n",
       "226141       5            0    False              banoi-paris   \n",
       "226142       4            1    False        le-délice-paris-4   \n",
       "\n",
       "                                             comment.text comment.language  \\\n",
       "0       It was a 2 man show. The bartender and  cook b...               en   \n",
       "1       during the afternoon, around happy hour, this ...               en   \n",
       "2       Very cool bar, chilled in the afternoon and pa...               en   \n",
       "3       Nice place to chill if you needed a little bre...               en   \n",
       "4       Just like other yelpers say, if u need to find...               en   \n",
       "...                                                   ...              ...   \n",
       "226138  Très bon, je me suis régalée ! Les rouleaux de...               fr   \n",
       "226139  Petite adresse viet testée juste avant un conc...               fr   \n",
       "226140  Découvert il y a quelques semaines via lémissi...               fr   \n",
       "226141  This is a little hole in the wall restaurant o...               en   \n",
       "226142  Le premier intérêt de ce traiteur et restauran...               fr   \n",
       "\n",
       "        user.reviewCount  user.friendCount user.country.code  has_img  \n",
       "0                    101                48               USA     True  \n",
       "1                    391                81               GBR     True  \n",
       "2                     34                 1               FRA     True  \n",
       "3                    184               112               USA     True  \n",
       "4                     73                16               USA     True  \n",
       "...                  ...               ...               ...      ...  \n",
       "226138                 9                 0               USA     True  \n",
       "226139               192                48               FRA     True  \n",
       "226140                79                 3               FRA     True  \n",
       "226141                11                 0               USA    False  \n",
       "226142               422                31               FRA     True  \n",
       "\n",
       "[226143 rows x 10 columns]"
      ]
     },
     "execution_count": 3,
     "metadata": {},
     "output_type": "execute_result"
    }
   ],
   "source": [
    "fake_reviews = pd.read_csv(\"./../datasets/enh_freviews/enh_freviews.csv.zip\", index_col=0)\n",
    "real_reviews = pd.read_csv(\"./../datasets/enh_reviews/enh_reviews.csv.zip\", index_col=0)\n"
   ]
  },
  {
   "cell_type": "code",
   "execution_count": 4,
   "metadata": {},
   "outputs": [],
   "source": [
    "fake_reviews_fr = fake_reviews.loc[fake_reviews[\"comment.language\"] == \"fr\"]\n",
    "fake_reviews_en = fake_reviews.loc[fake_reviews[\"comment.language\"] == \"en\"]\n",
    "real_reviews_fr = real_reviews.loc[real_reviews[\"comment.language\"] == \"fr\"]\n",
    "real_reviews_en = real_reviews.loc[real_reviews[\"comment.language\"] == \"en\"]"
   ]
  },
  {
   "cell_type": "markdown",
   "metadata": {},
   "source": [
    "### General aspects of reviews and reviewer\n",
    "\n",
    "#### Length of reviews"
   ]
  },
  {
   "cell_type": "code",
   "execution_count": 5,
   "metadata": {},
   "outputs": [],
   "source": [
    "# Average number of characters for en and fr reviews\n",
    "avg_char_fake_fr = fake_reviews_fr[\"comment.text\"].str.len().mean()\n",
    "avg_char_fake_en = fake_reviews_en[\"comment.text\"].str.len().mean()\n",
    "\n",
    "avg_char_real_fr = real_reviews_fr[\"comment.text\"].str.len().mean()\n",
    "avg_char_real_en = real_reviews_en[\"comment.text\"].str.len().mean()"
   ]
  },
  {
   "cell_type": "code",
   "execution_count": 23,
   "metadata": {},
   "outputs": [
    {
     "data": {
      "image/png": "[encoded data removed]",
      "text/plain": [
       "<Figure size 432x288 with 1 Axes>"
      ]
     },
     "metadata": {
      "needs_background": "light"
     },
     "output_type": "display_data"
    }
   ],
   "source": [
    "len_reviews_fr = [avg_char_fake_fr, avg_char_fake_en]\n",
    "len_reviews_en = [avg_char_real_fr, avg_char_real_en]\n",
    "labels_char = (\"French\", \"English\")\n",
    "\n",
    "x = np.arange(2)  # the label locations\n",
    "width = 0.35  # the width of the bars\n",
    "\n",
    "fig, ax = plt.subplots()\n",
    "rects1 = ax.bar(x - width/2, avg_char_fake_fr, width, label='Fake')\n",
    "rects2 = ax.bar(x + width/2, len_reviews_en, width, label='Real')\n",
    "\n",
    "# Add some text for labels, title and custom x-axis tick labels, etc.\n",
    "ax.set_ylabel('Average length of review (in characters)')\n",
    "ax.set_title('Comparison in length')\n",
    "ax.set_xticks(x)\n",
    "ax.set_xticklabels(labels_char)\n",
    "ax.legend()\n",
    "\n",
    "plt.show()"
   ]
  },
  {
   "cell_type": "markdown",
   "metadata": {},
   "source": [
    "#### Number of friends"
   ]
  },
  {
   "cell_type": "code",
   "execution_count": 45,
   "metadata": {},
   "outputs": [],
   "source": [
    "avg_friends_fake = fake_reviews[\"user.friendCount\"].mean()\n",
    "avg_friends_real = real_reviews[\"user.friendCount\"].mean()"
   ]
  },
  {
   "cell_type": "code",
   "execution_count": 46,
   "metadata": {},
   "outputs": [
    {
     "data": {
      "image/png": "[encoded data removed]",
      "text/plain": [
       "<Figure size 432x288 with 1 Axes>"
      ]
     },
     "metadata": {
      "needs_background": "light"
     },
     "output_type": "display_data"
    }
   ],
   "source": [
    "fig = plt.figure()\n",
    "ax = fig.add_axes([0,0,1,1])\n",
    "labels_friends = ['People w/ real reviews', 'People w/ fake reviews']\n",
    "friends_average = [avg_friends_real,avg_friends_fake]\n",
    "ax.bar(labels_friends,friends_average,color=['#1F77B4', '#FF7F0E'])\n",
    "ax.set_title(\"Who have more friends?\")\n",
    "ax.set_ylabel(\"Average number of friends\")\n",
    "plt.show()"
   ]
  },
  {
   "cell_type": "markdown",
   "metadata": {},
   "source": [
    "#### Do fakers review more often?"
   ]
  },
  {
   "cell_type": "code",
   "execution_count": 48,
   "metadata": {},
   "outputs": [
    {
     "data": {
      "image/png": "[encoded data removed]",
      "text/plain": [
       "<Figure size 432x288 with 1 Axes>"
      ]
     },
     "metadata": {
      "needs_background": "light"
     },
     "output_type": "display_data"
    }
   ],
   "source": [
    "avg_rcount = real_reviews[\"user.reviewCount\"].mean()\n",
    "avg_frcount = fake_reviews[\"user.reviewCount\"].mean()\n",
    "\n",
    "fig = plt.figure()\n",
    "ax = fig.add_axes([0,0,1,1])\n",
    "labels_review_count = ['People w/ fake reviews', 'People w/ real reviews']\n",
    "review_count_average = [avg_frcount, avg_rcount]\n",
    "ax.bar(labels_review_count,review_count_average,color=['#FF7F0E', '#1F77B4'])\n",
    "ax.set_title(\"Who review more?\")\n",
    "ax.set_ylabel(\"Average number of reviews\")\n",
    "plt.show()"
   ]
  },
  {
   "cell_type": "markdown",
   "metadata": {},
   "source": [
    "#### Fake reviews are more extreme?"
   ]
  },
  {
   "cell_type": "code",
   "execution_count": 50,
   "metadata": {},
   "outputs": [
    {
     "data": {
      "image/png": "[encoded data removed]",
      "text/plain": [
       "<Figure size 432x288 with 1 Axes>"
      ]
     },
     "metadata": {
      "needs_background": "light"
     },
     "output_type": "display_data"
    }
   ],
   "source": [
    "# Plotting distribution of fake reviews as a histogram with respect to rating\n",
    "df_hist = pd.DataFrame()\n",
    "\n",
    "df_hist[\"Fake Reviews\"] = fake_reviews[\"rating\"]\n",
    "df_hist[\"Real Reviews\"] = real_reviews[\"rating\"]\n",
    "\n",
    "ax = df_hist.plot.hist(bins=12, alpha=0.5)"
   ]
  },
  {
   "cell_type": "markdown",
   "metadata": {},
   "source": [
    "It can be noticed that fake reviews have peaks on extremely low and extremely high ratings. This corroborates to the idea that fake reviews are used to lower the rating of competitors and also to increase the rating of the benefited restaurant."
   ]
  },
  {
   "cell_type": "markdown",
   "metadata": {},
   "source": [
    "### NLP model to differentiate fake from real reviews"
   ]
  },
  {
   "cell_type": "code",
   "execution_count": 64,
   "metadata": {},
   "outputs": [
    {
     "name": "stderr",
     "output_type": "stream",
     "text": [
      "<ipython-input-64-31cb3693c3e4>:1: SettingWithCopyWarning: \n",
      "A value is trying to be set on a copy of a slice from a DataFrame.\n",
      "Try using .loc[row_indexer,col_indexer] = value instead\n",
      "\n",
      "See the caveats in the documentation: https://pandas.pydata.org/pandas-docs/stable/user_guide/indexing.html#returning-a-view-versus-a-copy\n",
      "  fake_reviews_en[\"comment.polarity\"] = fake_reviews_en[\"comment.text\"].apply(lambda x: TextBlob(x).sentiment.polarity)\n",
      "<ipython-input-64-31cb3693c3e4>:2: SettingWithCopyWarning: \n",
      "A value is trying to be set on a copy of a slice from a DataFrame.\n",
      "Try using .loc[row_indexer,col_indexer] = value instead\n",
      "\n",
      "See the caveats in the documentation: https://pandas.pydata.org/pandas-docs/stable/user_guide/indexing.html#returning-a-view-versus-a-copy\n",
      "  real_reviews_en[\"comment.polarity\"] = real_reviews_en[\"comment.text\"].apply(lambda x: TextBlob(x).sentiment.polarity)\n",
      "<ipython-input-64-31cb3693c3e4>:4: SettingWithCopyWarning: \n",
      "A value is trying to be set on a copy of a slice from a DataFrame.\n",
      "Try using .loc[row_indexer,col_indexer] = value instead\n",
      "\n",
      "See the caveats in the documentation: https://pandas.pydata.org/pandas-docs/stable/user_guide/indexing.html#returning-a-view-versus-a-copy\n",
      "  fake_reviews_en[\"comment.polarity_abs\"] = fake_reviews_en[\"comment.polarity\"].abs()\n",
      "<ipython-input-64-31cb3693c3e4>:5: SettingWithCopyWarning: \n",
      "A value is trying to be set on a copy of a slice from a DataFrame.\n",
      "Try using .loc[row_indexer,col_indexer] = value instead\n",
      "\n",
      "See the caveats in the documentation: https://pandas.pydata.org/pandas-docs/stable/user_guide/indexing.html#returning-a-view-versus-a-copy\n",
      "  real_reviews_en[\"comment.polarity_abs\"] = real_reviews_en[\"comment.polarity\"].abs()\n"
     ]
    }
   ],
   "source": [
    "fake_reviews_en[\"comment.polarity\"] = fake_reviews_en[\"comment.text\"].apply(lambda x: TextBlob(x).sentiment.polarity)\n",
    "real_reviews_en[\"comment.polarity\"] = real_reviews_en[\"comment.text\"].apply(lambda x: TextBlob(x).sentiment.polarity)\n",
    "\n",
    "fake_reviews_en[\"comment.polarity_abs\"] = fake_reviews_en[\"comment.polarity\"].abs()\n",
    "real_reviews_en[\"comment.polarity_abs\"] = real_reviews_en[\"comment.polarity\"].abs()"
   ]
  },
  {
   "cell_type": "code",
   "execution_count": 90,
   "metadata": {},
   "outputs": [
    {
     "data": {
      "image/png": "[encoded data removed]",
      "text/plain": [
       "<Figure size 432x288 with 1 Axes>"
      ]
     },
     "metadata": {
      "needs_background": "light"
     },
     "output_type": "display_data"
    }
   ],
   "source": [
    "df_box0 = pd.DataFrame()\n",
    "df_box1 = pd.DataFrame()\n",
    "\n",
    "df_box0[\"polarity\"] = fake_reviews_en[\"comment.polarity_abs\"]\n",
    "df_box0[\"type\"] = \"Fake\"\n",
    "df_box1[\"polarity\"] = real_reviews_en[\"comment.polarity_abs\"]\n",
    "df_box1[\"type\"] = \"Real\"\n",
    "\n",
    "df_box = pd.concat([df_box0, df_box1], ignore_index=True)\n",
    "\n",
    "f, ax = plt.subplots()\n",
    "\n",
    "bp = sns.boxplot(x='type', y=\"polarity\", \n",
    "                 hue='type', data=df_box, palette=\"Set2\", ax=ax)\n",
    "\n",
    "t = f.suptitle('Visualizing reviews polarity')"
   ]
  },
  {
   "cell_type": "code",
   "execution_count": null,
   "metadata": {},
   "outputs": [],
   "source": []
  }
 ],
 "metadata": {
  "kernelspec": {
   "display_name": "Python 3",
   "language": "python",
   "name": "python3"
  },
  "language_info": {
   "codemirror_mode": {
    "name": "ipython",
    "version": 3
   },
   "file_extension": ".py",
   "mimetype": "text/x-python",
   "name": "python",
   "nbconvert_exporter": "python",
   "pygments_lexer": "ipython3",
   "version": "3.8.5"
  }
 },
 "nbformat": 4,
 "nbformat_minor": 4
}
