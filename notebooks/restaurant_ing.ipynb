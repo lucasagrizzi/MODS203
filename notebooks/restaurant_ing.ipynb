{
 "cells": [
  {
   "cell_type": "markdown",
   "metadata": {},
   "source": [
    "# Yelp: Restaurants Data Ingestion\n",
    "\n",
    "*By Daniel Deutsch, José Lucas Barretto, Lucas Miguel Agrizzi, Kevin Kuhl.*"
   ]
  },
  {
   "cell_type": "code",
   "execution_count": null,
   "metadata": {},
   "outputs": [],
   "source": [
    "import time\n",
    "import json\n",
    "import requests\n",
    "import pandas as pd\n",
    "\n",
    "from datetime import timedelta"
   ]
  },
  {
   "cell_type": "code",
   "execution_count": null,
   "metadata": {},
   "outputs": [],
   "source": [
    "# Constants\n",
    "ARRONDISSEMENTS = json.load(open(\"./../constants/arrondissements.json\", encoding=\"utf-8\"))\n",
    "CATEGORIES = json.load(open(\"./../constants/categories.json\", encoding=\"utf-8\"))\n",
    "\n",
    "# API authentication\n",
    "AUTHS_API = json.load(open(\"./../constants/auth-api.json\", encoding=\"utf-8\")) \n",
    "available_auths_api = json.load(open(\"./../constants/auth-api.json\", encoding=\"utf-8\"))"
   ]
  },
  {
   "cell_type": "markdown",
   "metadata": {},
   "source": [
    "### Category Parser\n",
    "\n",
    "The categories JSON provided from Yelp's site has some information we don't actually need. To make it easier for us to work with it, we will transform this variable into an array of categories ailias."
   ]
  },
  {
   "cell_type": "code",
   "execution_count": null,
   "metadata": {},
   "outputs": [],
   "source": [
    "categories_alias = [category[\"alias\"] for category in CATEGORIES if \"restaurants\" in category[\"parents\"]]"
   ]
  },
  {
   "cell_type": "markdown",
   "metadata": {},
   "source": [
    "### Business Extraction\n",
    "\n",
    "Uses the Yelp API to gather all the possible restaurants in Paris. Since Paris is known to have more than 45,000 restaurants and the API only returns the first 1000 results given the parameters (with 50 results per page), we had to play with the request params to be able to gather as many restaurants as possible."
   ]
  },
  {
   "cell_type": "code",
   "execution_count": null,
   "metadata": {},
   "outputs": [],
   "source": [
    "# Sets the HTTP request\n",
    "url = \"https://api.yelp.com/v3/businesses/search\"\n",
    "headers = { \"Authorization\": f\"Bearer {random.choice(available_auths_api)['api_key']}\" }\n",
    "params = {\n",
    "    \"term\": \"restaurants\",\n",
    "    \"sort_by\": \"distance\",\n",
    "    \"open_now\": False, \n",
    "    \"offset\": 0,\n",
    "    \"limit\": 50, \n",
    "    \"location\": \"\",\n",
    "    \"categories\": \"\"\n",
    "}\n",
    "\n",
    "# Defines the time that the process started\n",
    "start = time.time()\n",
    "\n",
    "# Defines the dataframe of obtained restaurants\n",
    "df = pd.DataFrame()\n",
    "\n",
    "# Appends the restaurants to the dataframe\n",
    "for idx_arr, arr in enumerate(ARRONDISSEMENTS):\n",
    "\n",
    "    params[\"location\"] = f\"{arr}, Paris\"\n",
    "\n",
    "    for idx_cat, category in enumerate(categories_alias):        \n",
    "        \n",
    "        params[\"categories\"] = category\n",
    "        params[\"offset\"] = 0\n",
    "\n",
    "        while True:\n",
    "\n",
    "            print(f\"\\rProgress: arrondissement {idx_arr+1}/{len(ARRONDISSEMENTS)}, category {idx_cat+1}/{len(categories_alias)}, available api accounts {len(available_auths_api)}/{len(AUTHS_API)}, restaurants {df.shape[0]}, time taken {timedelta(seconds=time.time()-start)}\", end=\"\")\n",
    "\n",
    "            r = requests.get(url, headers=headers, params=params)\n",
    "            status_code = r.status_code\n",
    "            r = r.json()\n",
    "\n",
    "            # Overflow on the amount of requests allowed per day\n",
    "            if status_code == 429:\n",
    "                available_auths_api = [keys for keys in available_auths_api if keys[\"api_key\"] != headers[\"Authorization\"].split(\" \")[1]]\n",
    "                if not available_auths_api:\n",
    "                    raise Exception(\"Out of valid api accounts for today\")\n",
    "                headers = { \"Authorization\": f\"Bearer {random.choice(available_auths_api)['api_key']}\" }\n",
    "\n",
    "            # Overflow on the limit (1000)\n",
    "            elif r.get(\"error\"):\n",
    "                break\n",
    "            \n",
    "            # Overflow on the amount of results\n",
    "            elif params[\"offset\"] > r[\"total\"]:\n",
    "                break\n",
    "            \n",
    "            # Got the results\n",
    "            else:\n",
    "                df = pd.concat([pd.DataFrame(r[\"businesses\"]), df], ignore_index=True)\n",
    "                params[\"offset\"] += params[\"limit\"]"
   ]
  },
  {
   "source": [
    "### Drop duplicated rows\n",
    "\n",
    "Drops row that have the same informations"
   ],
   "cell_type": "markdown",
   "metadata": {}
  },
  {
   "cell_type": "code",
   "execution_count": null,
   "metadata": {},
   "outputs": [],
   "source": [
    "df = df.drop_duplicates(subset=[\"id\"], ignore_index=True)"
   ]
  },
  {
   "source": [
    "### Save the Dataframe\n",
    "\n",
    "Saves the obtained dataframe"
   ],
   "cell_type": "markdown",
   "metadata": {}
  },
  {
   "cell_type": "code",
   "execution_count": null,
   "metadata": {},
   "outputs": [],
   "source": [
    "df.to_csv(\"./../datasets/raw_restaurants/raw_restaurants.csv.zip\")"
   ]
  }
 ],
 "metadata": {
  "kernelspec": {
   "display_name": "Python 3",
   "language": "python",
   "name": "python3"
  },
  "language_info": {
   "codemirror_mode": {
    "name": "ipython",
    "version": 3
   },
   "file_extension": ".py",
   "mimetype": "text/x-python",
   "name": "python",
   "nbconvert_exporter": "python",
   "pygments_lexer": "ipython3",
   "version": "3.8.5"
  }
 },
 "nbformat": 4,
 "nbformat_minor": 2
}