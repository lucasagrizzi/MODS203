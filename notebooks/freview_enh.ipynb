{
 "cells": [
  {
   "source": [
    "# Yelp: Fake Reviews Data Enhencement\n",
    "\n",
    "*By Daniel Deutsch, José Lucas Barretto, Lucas Miguel Agrizzi, Kevin Kuhl.*"
   ],
   "cell_type": "markdown",
   "metadata": {}
  },
  {
   "cell_type": "code",
   "execution_count": 1,
   "metadata": {},
   "outputs": [],
   "source": [
    "import numpy as np\n",
    "import pandas as pd\n",
    "import pycountry\n",
    "from geopy.geocoders import Nominatim\n",
    "from langdetect import detect"
   ]
  },
  {
   "cell_type": "code",
   "execution_count": 2,
   "metadata": {},
   "outputs": [],
   "source": [
    "df = pd.read_csv(\"./../datasets/raw_freviews/raw_freviews.csv.zip\", index_col=0)"
   ]
  },
  {
   "source": [
    "### Add Missing Columns\n",
    "\n",
    "Since the fake reviews were obtained via web scraping (unlike the normal reviews that were obtained through a hidden API), some of the columns couldn't be filled because the page scraped wouldn't provide its information. Now, we are going to add these missing columns by setting a default value."
   ],
   "cell_type": "markdown",
   "metadata": {}
  },
  {
   "cell_type": "code",
   "execution_count": null,
   "metadata": {},
   "outputs": [],
   "source": [
    "df[\"totalPhotos\"] = 0"
   ]
  },
  {
   "source": [
    "### Extract Country Information\n",
    "\n",
    "The column *user.displayLocation* of the dataframe is useless the way it is now. What we are going to do is extract the country name and the country ISO aplha_3 code for each row."
   ],
   "cell_type": "markdown",
   "metadata": {}
  },
  {
   "cell_type": "code",
   "execution_count": null,
   "metadata": {},
   "outputs": [],
   "source": [
    "def extract_country(row):\n",
    "    nm = Nominatim(user_agent=\"myUserAgent\")\n",
    "    country = nm.geocode(row[\"user.displayLocation\"])\n",
    "    try:\n",
    "        name = country.address.split(\", \")[-1]\n",
    "        code = pycountry.countries.get(name=name).alpha_3\n",
    "    except:\n",
    "        name, code = pd.NA, pd.NA\n",
    "    print(f\"\\r Progress: {row.name}, name: {name}, code: {code}\", end=\"\")\n",
    "    return name, code\n",
    "\n",
    "df[[\"user.country.name\", \"user.country.code\"]] = df.apply(extract_country, axis=1, result_type=\"expand\")"
   ]
  },
  {
   "source": [
    "### Detect the Language of The Comment\n",
    "\n",
    "In our research its important to know in which language the reviews were written."
   ],
   "cell_type": "markdown",
   "metadata": {}
  },
  {
   "cell_type": "code",
   "execution_count": null,
   "metadata": {},
   "outputs": [],
   "source": [
    "def detect_language(row):\n",
    "    try:\n",
    "        return detect(row[\"comment.text\"])\n",
    "    except:\n",
    "        return pd.NA\n",
    "\n",
    "df[\"comment.language\"] = df.apply(detect_language, axis=1)"
   ]
  },
  {
   "source": [
    "### Drop Rows with Rare Languages\n",
    "\n",
    "Our analysis will only consider the comments written in english or in french, so we can drop all the other fake reviews."
   ],
   "cell_type": "markdown",
   "metadata": {}
  },
  {
   "cell_type": "code",
   "execution_count": null,
   "metadata": {},
   "outputs": [],
   "source": [
    "# Defines accepted languages\n",
    "accepted_lang = ['en', 'fr']\n",
    "\n",
    "# Filter the dataframe\n",
    "df = df[df[\"comment.language\"].isin(accepted_lang)]\n",
    "df = df.reset_index()"
   ]
  },
  {
   "source": [
    "### Drop Unnecessary Columns\n",
    "\n",
    "Now that we have the information about the country of the user, we can drop the column *user.displayLocation*"
   ],
   "cell_type": "markdown",
   "metadata": {}
  },
  {
   "cell_type": "code",
   "execution_count": null,
   "metadata": {},
   "outputs": [],
   "source": [
    "df.drop([\"user.displayLocation\"], axis=1, inplace=True)"
   ]
  },
  {
   "source": [
    "### Save the Dataframe\n",
    "\n",
    "Saves the obtained dataframe"
   ],
   "cell_type": "markdown",
   "metadata": {}
  },
  {
   "cell_type": "code",
   "execution_count": null,
   "metadata": {},
   "outputs": [],
   "source": [
    "df.to_csv(\"./../datasets/enh_freviews/enh_freviews.csv.zip\")"
   ]
  }
 ],
 "metadata": {
  "kernelspec": {
   "display_name": "Python 3.8.5 64-bit ('venv')",
   "language": "python",
   "name": "python38564bitvenva0d92de5f4bf4a659dea87de4eaf7e58"
  },
  "language_info": {
   "codemirror_mode": {
    "name": "ipython",
    "version": 3
   },
   "file_extension": ".py",
   "mimetype": "text/x-python",
   "name": "python",
   "nbconvert_exporter": "python",
   "pygments_lexer": "ipython3",
   "version": "3.8.5-final"
  }
 },
 "nbformat": 4,
 "nbformat_minor": 2
}