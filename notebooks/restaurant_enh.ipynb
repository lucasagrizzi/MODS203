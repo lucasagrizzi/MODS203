{
 "cells": [
  {
   "cell_type": "markdown",
   "metadata": {},
   "source": [
    "# Yelp: Restaurants Data Enhencement\n",
    "\n",
    "*By Daniel Deutsch, José Lucas Barretto, Lucas Miguel Agrizzi, Kevin Kuhl.*"
   ]
  },
  {
   "cell_type": "code",
   "execution_count": 1,
   "metadata": {},
   "outputs": [],
   "source": [
    "import requests\n",
    "import pandas as pd\n",
    "\n",
    "from lxml import html"
   ]
  },
  {
   "cell_type": "code",
   "execution_count": 2,
   "metadata": {},
   "outputs": [],
   "source": [
    "# Creates a global variable that represents the current country of the NordVPN\n",
    "global country\n",
    "country = \"France\"\n",
    "\n",
    "# Loads the dataset\n",
    "df = pd.read_csv(\"./../datasets/proc_restaurants/proc_restaurants.csv.zip\", index_col=0)"
   ]
  },
  {
   "cell_type": "markdown",
   "metadata": {},
   "source": [
    "### Obtain Number of Fake Reviews\n",
    "\n",
    "Obtains the number of fake reviews for each restaurant."
   ]
  },
  {
   "cell_type": "code",
   "execution_count": null,
   "metadata": {},
   "outputs": [],
   "source": [
    "def freview_count(row, row_count):\n",
    "\n",
    "    # Builds the url of the restaurant\n",
    "    url = f\"https://www.yelp.fr/not_recommended_reviews/{row['alias']}\"\n",
    "\n",
    "    # Tries to get the number of fake reviews\n",
    "    try:\n",
    "        r = requests.get(url)\n",
    "        doc = html.fromstring(r.text)\n",
    "        count = int(doc.xpath('//*[@id=\"super-container\"]/div[2]/div/div/div[3]/div/div[1]/h3')[0].text.strip().split(\" \")[0])\n",
    "    \n",
    "    # Changes the country of the VPN and tries again\n",
    "    except:\n",
    "        country = random.choice(countries)\n",
    "        ! nordvpn connect {country} # Runs on the terminal\n",
    "        time.sleep(5)\n",
    "        fake_review_count(row, row_count)\n",
    "    \n",
    "    # Once we know the number of fake reviews we return it\n",
    "    else:\n",
    "        print(f\"\\rProgress: row {row.name}/{row_count}, accessing from: {country}\", end=\"\")\n",
    "        return count\n",
    "\n",
    "\n",
    "# Creates a column that shows the number of fake comments on the restaurant's page\n",
    "df[\"freview_count\"] = df.apply(lambda row: freview_count(row, df.shape[0]), axis=1)"
   ]
  },
  {
   "cell_type": "markdown",
   "metadata": {},
   "source": [
    "### Create Useful Columns\n",
    "\n",
    "Columns such as the total number of reviews and the percentage of fake reviews are useful to our research."
   ]
  },
  {
   "cell_type": "code",
   "execution_count": 6,
   "metadata": {},
   "outputs": [],
   "source": [
    "df[\"treview_count\"] = df[\"freview_count\"] + df[\"review_count\"]\n",
    "df[\"freview_pct\"] = df[\"freview_count\"] / df[\"treview_count\"]"
   ]
  },
  {
   "cell_type": "markdown",
   "metadata": {},
   "source": [
    "### Save the Dataframe\n",
    "\n",
    "Saves the obtained dataframe"
   ]
  },
  {
   "cell_type": "code",
   "execution_count": 7,
   "metadata": {},
   "outputs": [],
   "source": [
    "df.to_csv(\"./../datasets/enh_restaurants/enh_restaurants.csv.zip\")"
   ]
  }
 ],
 "metadata": {
  "kernelspec": {
   "display_name": "Python 3.8.5 64-bit ('venv')",
   "language": "python",
   "name": "python38564bitvenva0d92de5f4bf4a659dea87de4eaf7e58"
  },
  "language_info": {
   "codemirror_mode": {
    "name": "ipython",
    "version": 3
   },
   "file_extension": ".py",
   "mimetype": "text/x-python",
   "name": "python",
   "nbconvert_exporter": "python",
   "pygments_lexer": "ipython3",
   "version": "3.8.5-final"
  }
 },
 "nbformat": 4,
 "nbformat_minor": 2
}