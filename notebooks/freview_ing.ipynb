{
 "cells": [
  {
   "cell_type": "markdown",
   "metadata": {},
   "source": [
    "# Yelp: Fake Review Data Ingestion\n",
    "\n",
    "*By Daniel Deutsch, José Lucas Barretto, Lucas Miguel Agrizzi, Kevin Kuhl.*"
   ]
  },
  {
   "cell_type": "code",
   "execution_count": null,
   "metadata": {},
   "outputs": [],
   "source": [
    "import requests\n",
    "import pandas as pd\n",
    "\n",
    "from bs4 import BeautifulSoup"
   ]
  },
  {
   "cell_type": "code",
   "execution_count": null,
   "metadata": {},
   "outputs": [],
   "source": [
    "# Constants\n",
    "URL_DEFAULT_IMG = \"https://s3-media0.fl.yelpcdn.com/assets/srv0/yelp_styleguide/514f6997a318/assets/img/default_avatars/user_60_square.png\"\n",
    "\n",
    "# NordVPN possible countries\n",
    "countries = json.load(open(\"./constants/countries.json\", encoding=\"utf-8\"))"
   ]
  },
  {
   "cell_type": "code",
   "execution_count": null,
   "metadata": {},
   "outputs": [],
   "source": [
    "df_restaurants = pd.read_csv(\"./../datasets/enh_restaurants/enh_restaurants.csv\", index_col=0)"
   ]
  },
  {
   "cell_type": "markdown",
   "metadata": {},
   "source": [
    "### Obtains the Fake Reviews\n",
    "\n",
    "Obtains the fake reviews for each restaurant"
   ]
  },
  {
   "cell_type": "code",
   "execution_count": null,
   "metadata": {},
   "outputs": [],
   "source": [
    "# Create an empty dataframe to store reviews\n",
    "df_reviews = pd.DataFrame(columns=['user.displayLocation', 'user.friendCount', 'user.reviewCount', 'is_fake', 'date', 'business.alias', 'comment.text', 'rating', 'has_img'])\n",
    "\n",
    "# Creating useful variables\n",
    "row_count = df.shape[0]\n",
    "progress = 0\n",
    "total_reviews = 0\n",
    "\n",
    "# Iterating over each row of the dataframe of restaurants\n",
    "for index, row in df_restaurants.iterrows():\n",
    "    iterator = 0\n",
    "    less10 = 0\n",
    "    # Getting the number of fake reviews for the current restaurant\n",
    "    number_fake_reviews = int(row[\"freview_count\"])\n",
    "    \n",
    "    # Check if there are less than 10 reviews (all reviews would be in a single page)\n",
    "    if number_fake_reviews < 10:\n",
    "        less10 = 1\n",
    "        \n",
    "    # Update progress counter if the restaurant has no fake reviews (and do not enter the while loop below)\n",
    "    if number_fake_reviews == 0:\n",
    "        progress += 1\n",
    "        \n",
    "    # Builds the url of the restaurant\n",
    "    url = f\"https://www.yelp.fr/not_recommended_reviews/{row['alias']}\"\n",
    "\n",
    "    # Tries to get the fake reviews\n",
    "    # Inside a while loop to treat all possible exceptions\n",
    "    while(number_fake_reviews != 0):\n",
    "        try:\n",
    "            # Do the request\n",
    "            r = requests.get(url)\n",
    "            # Parse the reponse from the request\n",
    "            soup = BeautifulSoup(r.text, 'html.parser')\n",
    "            # Get all the <li> elements from the page (those contains the reviews)\n",
    "            reviews_in_page = soup.find_all(\"ul\")[0].find_all(\"li\")\n",
    "            \n",
    "            # Iterate over the first 10 fake reviews of the current analysed restaurant\n",
    "            for i in range(10 if not less10 else number_fake_reviews):\n",
    "                # First, we analyse if there is a icon for posted photos by the user\n",
    "                # This changes the way we iterate between one review and another\n",
    "                # As it adds an extra <li> block to be counted\n",
    "                # It indicates how many photos the user has already posted in Yelp\n",
    "                reviews_have_photos = True if len(reviews_in_page[iterator].find_all(class_=\"photo-count responsive-small-display-inline-block\"))>0 else False\n",
    "                # Initializing an empty dictionary to contain the review\n",
    "                review = {}\n",
    "                # First filling it with the user's origin\n",
    "                review[\"user.displayLocation\"] = reviews_in_page[iterator].find_all(\"b\")[0].text\n",
    "                # Sometimes Yelp uses Membre Qype and Membre Cityvox in the alias of a given user\n",
    "                # When this is the case, we have to ignore the first response for the user origin and\n",
    "                # Start capturing from the second entry (<b> blocks)\n",
    "                if review[\"user.displayLocation\"] == \"Membre Qype\" or review[\"user.displayLocation\"]==\"Membre Cityvox\":\n",
    "                    review[\"user.displayLocation\"] = reviews_in_page[iterator].find_all(\"b\")[1].text\n",
    "                    review[\"user.friendCount\"] = reviews_in_page[iterator].find_all(\"b\")[2].text\n",
    "                    review[\"user.reviewCount\"] = reviews_in_page[iterator].find_all(\"b\")[3].text\n",
    "                else:\n",
    "                    review[\"user.friendCount\"] = reviews_in_page[iterator].find_all(\"b\")[1].text\n",
    "                    review[\"user.reviewCount\"] = reviews_in_page[iterator].find_all(\"b\")[2].text\n",
    "                # Indicates this is a fake review (to use when comparing with real reviews)\n",
    "                review[\"is_fake\"] = True\n",
    "                review[\"date\"] = reviews_in_page[iterator].find_all(\"span\", class_=\"rating-qualifier\")[0].text.strip()\n",
    "                review[\"business.alias\"] = f\"{row['alias']}\"\n",
    "                review[\"comment.text\"] = reviews_in_page[iterator].find_all(\"p\")[0].text\n",
    "                review[\"rating\"] = reviews_in_page[iterator].find_all(\"img\", class_=\"offscreen\")[0].attrs[\"alt\"].split(\" \")[0]\n",
    "                review[\"has_img\"] = reviews_in_page[iterator].find_all(\"img\", class_=\"offscreen\")[0].attrs[\"src\"] != URL_DEFAULT_IMG\n",
    "                # Add it to the dataframe\n",
    "                df_reviews = df_reviews.append(review.copy(), ignore_index=True)\n",
    "                # Update the iterator\n",
    "                if reviews_have_photos:\n",
    "                    iterator += 6\n",
    "                else:\n",
    "                    iterator += 5\n",
    "        # This never happens, but we wanted to make a stable program\n",
    "        except KeyError:\n",
    "            progress+=1\n",
    "            break\n",
    "        # All possible exceptions will be related to conections to Yelp's website\n",
    "        # We solve them by changing to another country\n",
    "        except Exception:\n",
    "            country = random.choice(countries)\n",
    "            # Runs on the terminal\n",
    "            ! nordvpn connect {country}\n",
    "            time.sleep(5)\n",
    "        # If there is no exceptions, we update the progress counter\n",
    "        # Also updating the total number of reviews retrieved and printing the status\n",
    "        else:\n",
    "            progress += 1\n",
    "            total_reviews += 10 if not less10 else number_fake_reviews\n",
    "            print(f\"\\rProgress: row {progress}/{row_count}, accessing from: {country}, total reviews: {total_reviews}\", end=\"\")\n",
    "            break"
   ]
  },
  {
   "cell_type": "markdown",
   "metadata": {},
   "source": [
    "### Save the Dataframe\n",
    "\n",
    "Saves the obtained dataframe"
   ]
  },
  {
   "cell_type": "code",
   "execution_count": null,
   "metadata": {},
   "outputs": [],
   "source": [
    "df_reviews.to_csv(\"./../datasets/raw_freviews/raw_freviews.csv.zip\")"
   ]
  }
 ],
 "metadata": {
  "kernelspec": {
   "display_name": "mods203",
   "language": "python",
   "name": "mods203"
  },
  "language_info": {
   "codemirror_mode": {
    "name": "ipython",
    "version": 3
   },
   "file_extension": ".py",
   "mimetype": "text/x-python",
   "name": "python",
   "nbconvert_exporter": "python",
   "pygments_lexer": "ipython3",
   "version": "3.7.9"
  }
 },
 "nbformat": 4,
 "nbformat_minor": 2
}
