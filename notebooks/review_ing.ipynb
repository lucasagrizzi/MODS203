{
 "cells": [
  {
   "cell_type": "markdown",
   "metadata": {},
   "source": [
    "# Yelp: Reviews Data Ingestion\n",
    "\n",
    "*By Daniel Deutsch, José Lucas Barretto, Lucas Miguel Agrizzi, Kevin Kuhl.*"
   ]
  },
  {
   "cell_type": "code",
   "execution_count": null,
   "metadata": {},
   "outputs": [],
   "source": [
    "import time\n",
    "import json\n",
    "import random\n",
    "import requests\n",
    "import pandas as pd\n",
    "\n",
    "from datetime import timedelta"
   ]
  },
  {
   "cell_type": "code",
   "execution_count": null,
   "metadata": {},
   "outputs": [],
   "source": [
    "# NordVPN available countries\n",
    "countries = json.load(open(\"./../constants/countries.json\", encoding=\"utf-8\"))\n",
    "\n",
    "# Dataframes\n",
    "df_restaurants = pd.read_csv(\"./../datasets/enh_restaurants/enh_restaurants.csv.zip\", index_col=0)"
   ]
  },
  {
   "cell_type": "markdown",
   "metadata": {},
   "source": [
    "### Extract Reviews\n",
    "\n",
    "For each restaurant in the dataset, we scrape its"
   ]
  },
  {
   "cell_type": "code",
   "execution_count": null,
   "metadata": {},
   "outputs": [],
   "source": [
    "# Defines the time that the process started\n",
    "start = time.time()\n",
    "\n",
    "# Defines the reviews dataframe\n",
    "df_reviews = pd.DataFrame()\n",
    "\n",
    "for idx, row in df_restaurants.iterrows():\n",
    "    for rl in [\"en\", \"fr\"]:\n",
    "    \n",
    "        # Sets the HTTP request\n",
    "        url = f\"https://www.yelp.com/biz/{row['id']}/review_feed\"\n",
    "        params = {\n",
    "            \"rl\": rl,\n",
    "            \"sort_by\": \"relevance_desc\",\n",
    "            \"start\": 0\n",
    "        }\n",
    "\n",
    "        while True:\n",
    "\n",
    "            print(f\"\\rProgress: restaurants {row.name+1}/{df_restaurants.shape[0]}, reviews {df_reviews.shape[0]}, time taken {timedelta(seconds=time.time()-start)}\", end=\"\")\n",
    "\n",
    "            # Makes the HTTP request\n",
    "            r = requests.get(url, params=params)\n",
    "\n",
    "            # Good response from the API\n",
    "            if r.status_code == 200:\n",
    "\n",
    "                # Obtains the reviews of this page\n",
    "                reviews = r.json()[\"reviews\"]\n",
    "\n",
    "                # Still have reviews from this restaurant\n",
    "                if reviews:\n",
    "                    df_reviews = pd.concat([pd.DataFrame(reviews), df_reviews], ignore_index=True)\n",
    "                    df_reviews[\"is_fake\"] = False\n",
    "                    params[\"start\"] += 20\n",
    "                \n",
    "                # Overflow on restaurant's reviews (go to the next restaurant)\n",
    "                else:\n",
    "                    break\n",
    "\n",
    "            # Our IP got blocked from the API\n",
    "            elif r.status_code == 503:\n",
    "                country = random.choice(countries)\n",
    "                ! nordvpn connect {country} # Runs on the terminal\n",
    "                time.sleep(5)\n",
    "\n",
    "            # Got an unpredicted response\n",
    "            else:\n",
    "                raise Exception(\"Unpredicted response from the server\")"
   ]
  },
  {
   "source": [
    "### Save the Dataframe\n",
    "\n",
    "Saves the obtained dataframe"
   ],
   "cell_type": "markdown",
   "metadata": {}
  },
  {
   "cell_type": "code",
   "execution_count": null,
   "metadata": {},
   "outputs": [],
   "source": [
    "df_reviews.to_csv(\"./../datasets/raw_reviews/raw_reviews.csv.zip\")"
   ]
  }
 ],
 "metadata": {
  "kernelspec": {
   "display_name": "Python 3",
   "language": "python",
   "name": "python3"
  },
  "language_info": {
   "codemirror_mode": {
    "name": "ipython",
    "version": 3
   },
   "file_extension": ".py",
   "mimetype": "text/x-python",
   "name": "python",
   "nbconvert_exporter": "python",
   "pygments_lexer": "ipython3",
   "version": "3.8.5"
  }
 },
 "nbformat": 4,
 "nbformat_minor": 2
}